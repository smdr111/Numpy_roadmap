{
  "nbformat": 4,
  "nbformat_minor": 0,
  "metadata": {
    "colab": {
      "provenance": [],
      "authorship_tag": "ABX9TyMKgPKSZ8U7MXTMjKHjI0xY",
      "include_colab_link": true
    },
    "kernelspec": {
      "name": "python3",
      "display_name": "Python 3"
    },
    "language_info": {
      "name": "python"
    }
  },
  "cells": [
    {
      "cell_type": "markdown",
      "metadata": {
        "id": "view-in-github",
        "colab_type": "text"
      },
      "source": [
        "<a href=\"https://colab.research.google.com/github/smdr111/Numpy_roadmap/blob/main/Indexing%26Slicing.ipynb\" target=\"_parent\"><img src=\"https://colab.research.google.com/assets/colab-badge.svg\" alt=\"Open In Colab\"/></a>"
      ]
    },
    {
      "cell_type": "code",
      "execution_count": null,
      "metadata": {
        "id": "fGBfGObzU_w7"
      },
      "outputs": [],
      "source": [
        "import numpy as np"
      ]
    },
    {
      "cell_type": "code",
      "source": [
        "data=np.arange(10,100,10)\n",
        "data"
      ],
      "metadata": {
        "colab": {
          "base_uri": "https://localhost:8080/"
        },
        "id": "kbH8GY2wVgfp",
        "outputId": "fd243d68-8def-4619-de4d-4094cbf3f9f8"
      },
      "execution_count": null,
      "outputs": [
        {
          "output_type": "execute_result",
          "data": {
            "text/plain": [
              "array([10, 20, 30, 40, 50, 60, 70, 80, 90])"
            ]
          },
          "metadata": {},
          "execution_count": 3
        }
      ]
    },
    {
      "cell_type": "code",
      "source": [
        "data[4]"
      ],
      "metadata": {
        "colab": {
          "base_uri": "https://localhost:8080/"
        },
        "id": "IvWepOQvXBuV",
        "outputId": "974a31d3-8168-47cd-d380-358d92372ccf"
      },
      "execution_count": null,
      "outputs": [
        {
          "output_type": "execute_result",
          "data": {
            "text/plain": [
              "np.int64(50)"
            ]
          },
          "metadata": {},
          "execution_count": 4
        }
      ]
    },
    {
      "cell_type": "code",
      "source": [
        "data[2:6]"
      ],
      "metadata": {
        "colab": {
          "base_uri": "https://localhost:8080/"
        },
        "id": "RUMO8o3mXHBn",
        "outputId": "04b6ec9d-fc6f-45b1-eb87-074f2174bdf8"
      },
      "execution_count": null,
      "outputs": [
        {
          "output_type": "execute_result",
          "data": {
            "text/plain": [
              "array([30, 40, 50, 60])"
            ]
          },
          "metadata": {},
          "execution_count": 6
        }
      ]
    },
    {
      "cell_type": "markdown",
      "source": [
        "Massivning kesib olingan qismiga o'zgartish kiritilsa, asosiy manba massivga tasir qiladi"
      ],
      "metadata": {
        "id": "oSg-HLprYQHm"
      }
    },
    {
      "cell_type": "code",
      "source": [
        "sliced_data=data[3:5]\n",
        "sliced_data[:]=0\n",
        "data"
      ],
      "metadata": {
        "colab": {
          "base_uri": "https://localhost:8080/"
        },
        "id": "q8oupukNXK_j",
        "outputId": "00818137-31f0-4c51-9bb4-3194474c7271"
      },
      "execution_count": null,
      "outputs": [
        {
          "output_type": "execute_result",
          "data": {
            "text/plain": [
              "array([10, 20, 30,  0,  0, 60, 70, 80, 90])"
            ]
          },
          "metadata": {},
          "execution_count": 8
        }
      ]
    },
    {
      "cell_type": "markdown",
      "source": [
        "`copy`"
      ],
      "metadata": {
        "id": "aI72ewQvYyTY"
      }
    },
    {
      "cell_type": "code",
      "source": [
        "arr1=np.arange(10,100,10)"
      ],
      "metadata": {
        "id": "WN9RIWjoYifk"
      },
      "execution_count": null,
      "outputs": []
    },
    {
      "cell_type": "code",
      "source": [
        "sliced_arr=arr1[3:7].copy()\n",
        "sliced_arr[:]=0\n",
        "sliced_arr"
      ],
      "metadata": {
        "colab": {
          "base_uri": "https://localhost:8080/"
        },
        "id": "T4IoLnEbY6j8",
        "outputId": "91910991-d4cc-44a2-b801-a73179f15a25"
      },
      "execution_count": null,
      "outputs": [
        {
          "output_type": "execute_result",
          "data": {
            "text/plain": [
              "array([0, 0, 0, 0])"
            ]
          },
          "metadata": {},
          "execution_count": 13
        }
      ]
    },
    {
      "cell_type": "code",
      "source": [
        "arr1"
      ],
      "metadata": {
        "colab": {
          "base_uri": "https://localhost:8080/"
        },
        "id": "SlSC1Y_HZgJI",
        "outputId": "d9d7ce07-a62b-40c8-bc0c-f3b1aa6d4a86"
      },
      "execution_count": null,
      "outputs": [
        {
          "output_type": "execute_result",
          "data": {
            "text/plain": [
              "array([10, 20, 30, 40, 50, 60, 70, 80, 90])"
            ]
          },
          "metadata": {},
          "execution_count": 14
        }
      ]
    },
    {
      "cell_type": "markdown",
      "source": [
        "2 olchamli massiv indekslari"
      ],
      "metadata": {
        "id": "_bC6EoYnaj4H"
      }
    },
    {
      "cell_type": "code",
      "source": [],
      "metadata": {
        "id": "VCEtnmcDa3yX"
      },
      "execution_count": null,
      "outputs": []
    },
    {
      "cell_type": "code",
      "source": [
        "arr2=np.array([[1,2,3],[5,6,7],[8,9,10]])\n",
        "arr2"
      ],
      "metadata": {
        "colab": {
          "base_uri": "https://localhost:8080/"
        },
        "id": "VTPsXCIZZoUm",
        "outputId": "c536e4b3-ed85-4da5-fd43-3fbf3c5a4470"
      },
      "execution_count": null,
      "outputs": [
        {
          "output_type": "execute_result",
          "data": {
            "text/plain": [
              "array([[ 1,  2,  3],\n",
              "       [ 5,  6,  7],\n",
              "       [ 8,  9, 10]])"
            ]
          },
          "metadata": {},
          "execution_count": 18
        }
      ]
    },
    {
      "cell_type": "code",
      "source": [
        "arr2[2,0]"
      ],
      "metadata": {
        "colab": {
          "base_uri": "https://localhost:8080/"
        },
        "id": "N4qjsNSWa7LS",
        "outputId": "4c1a068d-38ac-4782-fec0-e0b3c64259bf"
      },
      "execution_count": null,
      "outputs": [
        {
          "output_type": "execute_result",
          "data": {
            "text/plain": [
              "np.int64(8)"
            ]
          },
          "metadata": {},
          "execution_count": 20
        }
      ]
    },
    {
      "cell_type": "code",
      "source": [
        "arr2[0,2]"
      ],
      "metadata": {
        "colab": {
          "base_uri": "https://localhost:8080/"
        },
        "id": "sA_Yy4RAay3k",
        "outputId": "dbb1f97c-1f1c-46c1-911a-c60b87947af1"
      },
      "execution_count": null,
      "outputs": [
        {
          "output_type": "execute_result",
          "data": {
            "text/plain": [
              "np.int64(3)"
            ]
          },
          "metadata": {},
          "execution_count": 21
        }
      ]
    },
    {
      "cell_type": "markdown",
      "source": [
        "2-o`lchamli massivlarni kesish"
      ],
      "metadata": {
        "id": "vE94AuyebPMy"
      }
    },
    {
      "cell_type": "code",
      "source": [
        "sl_arr=arr2[1, :2]\n",
        "sl_arr"
      ],
      "metadata": {
        "colab": {
          "base_uri": "https://localhost:8080/"
        },
        "id": "NFbzsL4UbOJ1",
        "outputId": "4daddc0d-e1e1-4784-8b12-3380f74c4ac8"
      },
      "execution_count": null,
      "outputs": [
        {
          "output_type": "execute_result",
          "data": {
            "text/plain": [
              "array([5, 6])"
            ]
          },
          "metadata": {},
          "execution_count": 23
        }
      ]
    },
    {
      "cell_type": "markdown",
      "source": [
        "3-o'lchamli massivlarda index va slicing"
      ],
      "metadata": {
        "id": "P1MjpUofcbyW"
      }
    },
    {
      "cell_type": "code",
      "source": [
        "arr3d=np.array([[[1,2,3,4],\n",
        "               [4,6,7,8],\n",
        "               [9,10,11,12]],\n",
        "\n",
        "                [[13,14,15,16],\n",
        "                [17,18,19,20],\n",
        "                [21,22,23,24]],\n",
        "\n",
        "                [[25,26,27,28],\n",
        "                [29,30,31,32],\n",
        "                [33,34,35,36]]])\n"
      ],
      "metadata": {
        "id": "DwBL3fymcOuC"
      },
      "execution_count": null,
      "outputs": []
    },
    {
      "cell_type": "code",
      "source": [
        "arr3d[0][2,1:]"
      ],
      "metadata": {
        "colab": {
          "base_uri": "https://localhost:8080/"
        },
        "id": "LWLcSRrHe1pc",
        "outputId": "3f6e7fc9-df75-43cc-aa41-5ef9fdef9f41"
      },
      "execution_count": null,
      "outputs": [
        {
          "output_type": "execute_result",
          "data": {
            "text/plain": [
              "array([10, 11, 12])"
            ]
          },
          "metadata": {},
          "execution_count": 29
        }
      ]
    },
    {
      "cell_type": "code",
      "source": [
        "arr3d[1][1,:3]"
      ],
      "metadata": {
        "colab": {
          "base_uri": "https://localhost:8080/"
        },
        "id": "p8HiG0wKe4i2",
        "outputId": "ba363b63-8931-4c90-fb0b-bb031bf96b61"
      },
      "execution_count": null,
      "outputs": [
        {
          "output_type": "execute_result",
          "data": {
            "text/plain": [
              "array([17, 18, 19])"
            ]
          },
          "metadata": {},
          "execution_count": 30
        }
      ]
    },
    {
      "cell_type": "code",
      "source": [
        "arr3d[2][2,2]"
      ],
      "metadata": {
        "colab": {
          "base_uri": "https://localhost:8080/"
        },
        "id": "jJJoiOuNe6vz",
        "outputId": "4eb5977e-0bd2-4bf7-ae20-765522dbfe63"
      },
      "execution_count": null,
      "outputs": [
        {
          "output_type": "execute_result",
          "data": {
            "text/plain": [
              "np.int64(35)"
            ]
          },
          "metadata": {},
          "execution_count": 31
        }
      ]
    },
    {
      "cell_type": "code",
      "source": [],
      "metadata": {
        "id": "aLdVmi0oe9iu"
      },
      "execution_count": null,
      "outputs": []
    }
  ]
}