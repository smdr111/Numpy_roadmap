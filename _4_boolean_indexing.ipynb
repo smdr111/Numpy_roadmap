{
  "nbformat": 4,
  "nbformat_minor": 0,
  "metadata": {
    "colab": {
      "provenance": [],
      "authorship_tag": "ABX9TyPct6q/pT0IfgyPyiolDf2g",
      "include_colab_link": true
    },
    "kernelspec": {
      "name": "python3",
      "display_name": "Python 3"
    },
    "language_info": {
      "name": "python"
    }
  },
  "cells": [
    {
      "cell_type": "markdown",
      "metadata": {
        "id": "view-in-github",
        "colab_type": "text"
      },
      "source": [
        "<a href=\"https://colab.research.google.com/github/smdr111/Numpy_roadmap/blob/main/_4_boolean_indexing.ipynb\" target=\"_parent\"><img src=\"https://colab.research.google.com/assets/colab-badge.svg\" alt=\"Open In Colab\"/></a>"
      ]
    },
    {
      "cell_type": "code",
      "execution_count": 2,
      "metadata": {
        "id": "XfVcI4BKrbYT"
      },
      "outputs": [],
      "source": [
        "import numpy as np"
      ]
    },
    {
      "cell_type": "code",
      "source": [
        "names=np.array(['Hasan','Husan','Mirzabek','Elyor','Hasan','Jvaohir','Elyor'])\n",
        "names"
      ],
      "metadata": {
        "colab": {
          "base_uri": "https://localhost:8080/"
        },
        "id": "RdmGGqFqrsVe",
        "outputId": "cf2c0298-472e-4d57-b329-adf43f17b6fc"
      },
      "execution_count": 3,
      "outputs": [
        {
          "output_type": "execute_result",
          "data": {
            "text/plain": [
              "array(['Hasan', 'Husan', 'Mirzabek', 'Elyor', 'Hasan', 'Jvaohir', 'Elyor'],\n",
              "      dtype='<U8')"
            ]
          },
          "metadata": {},
          "execution_count": 3
        }
      ]
    },
    {
      "cell_type": "code",
      "source": [
        "data=np.random.randn(7,4)\n",
        "data"
      ],
      "metadata": {
        "colab": {
          "base_uri": "https://localhost:8080/"
        },
        "id": "KWUeIciiwOgZ",
        "outputId": "ff192222-42ac-429b-9667-8d5b73bdfbae"
      },
      "execution_count": 4,
      "outputs": [
        {
          "output_type": "execute_result",
          "data": {
            "text/plain": [
              "array([[-0.48215174,  0.06783732,  0.3230539 ,  0.77447255],\n",
              "       [ 0.67241501, -0.66489328,  2.29953114,  0.46382451],\n",
              "       [ 0.65559634, -0.3490481 , -0.64484948, -2.39579594],\n",
              "       [-0.33965435, -0.35768009,  2.78800715, -1.72941529],\n",
              "       [-0.80126359, -0.06189583,  0.35733987,  1.21505393],\n",
              "       [ 0.31447608, -0.80898165,  0.06885335,  0.38765859],\n",
              "       [-0.23835702,  0.83254879, -0.09829183, -0.34513402]])"
            ]
          },
          "metadata": {},
          "execution_count": 4
        }
      ]
    },
    {
      "cell_type": "code",
      "source": [
        "names=='Hasan'"
      ],
      "metadata": {
        "colab": {
          "base_uri": "https://localhost:8080/"
        },
        "id": "h4qpJPyLwjKF",
        "outputId": "d28ffb95-d515-4489-d044-568cceed9ca5"
      },
      "execution_count": 5,
      "outputs": [
        {
          "output_type": "execute_result",
          "data": {
            "text/plain": [
              "array([ True, False, False, False,  True, False, False])"
            ]
          },
          "metadata": {},
          "execution_count": 5
        }
      ]
    },
    {
      "cell_type": "code",
      "source": [
        "data[names=='Hasan']"
      ],
      "metadata": {
        "colab": {
          "base_uri": "https://localhost:8080/"
        },
        "id": "SgRLrD7LxTdd",
        "outputId": "f5bb0d83-17e7-4712-bcdd-68c9dfe1d95c"
      },
      "execution_count": 6,
      "outputs": [
        {
          "output_type": "execute_result",
          "data": {
            "text/plain": [
              "array([[-0.48215174,  0.06783732,  0.3230539 ,  0.77447255],\n",
              "       [-0.80126359, -0.06189583,  0.35733987,  1.21505393]])"
            ]
          },
          "metadata": {},
          "execution_count": 6
        }
      ]
    },
    {
      "cell_type": "code",
      "source": [
        "data[names=='Elyor']"
      ],
      "metadata": {
        "colab": {
          "base_uri": "https://localhost:8080/"
        },
        "id": "TkSPVg88xfEz",
        "outputId": "88922a20-19e9-4981-f49d-5f511c24bcfb"
      },
      "execution_count": 7,
      "outputs": [
        {
          "output_type": "execute_result",
          "data": {
            "text/plain": [
              "array([[-0.33965435, -0.35768009,  2.78800715, -1.72941529],\n",
              "       [-0.23835702,  0.83254879, -0.09829183, -0.34513402]])"
            ]
          },
          "metadata": {},
          "execution_count": 7
        }
      ]
    },
    {
      "cell_type": "code",
      "source": [
        "data[names=='Mirzabek']"
      ],
      "metadata": {
        "colab": {
          "base_uri": "https://localhost:8080/"
        },
        "id": "VP5kQwpeyAJ6",
        "outputId": "ebc4b5b2-bd60-482e-d80c-dfc3f6460db3"
      },
      "execution_count": 8,
      "outputs": [
        {
          "output_type": "execute_result",
          "data": {
            "text/plain": [
              "array([[ 0.65559634, -0.3490481 , -0.64484948, -2.39579594]])"
            ]
          },
          "metadata": {},
          "execution_count": 8
        }
      ]
    },
    {
      "cell_type": "code",
      "source": [
        "data[names=='Mirzabek',1:2]"
      ],
      "metadata": {
        "colab": {
          "base_uri": "https://localhost:8080/"
        },
        "id": "pc6w5yDuyxJ2",
        "outputId": "acbbbdb3-ca2e-4154-b2f3-83c32e4fb35b"
      },
      "execution_count": 9,
      "outputs": [
        {
          "output_type": "execute_result",
          "data": {
            "text/plain": [
              "array([[-0.3490481]])"
            ]
          },
          "metadata": {},
          "execution_count": 9
        }
      ]
    },
    {
      "cell_type": "code",
      "source": [
        "data[names!='Hasan']"
      ],
      "metadata": {
        "colab": {
          "base_uri": "https://localhost:8080/"
        },
        "id": "FqF0RKCdy6lG",
        "outputId": "60209c80-6bd8-4af6-94e3-2fd338bd5706"
      },
      "execution_count": 10,
      "outputs": [
        {
          "output_type": "execute_result",
          "data": {
            "text/plain": [
              "array([[ 0.67241501, -0.66489328,  2.29953114,  0.46382451],\n",
              "       [ 0.65559634, -0.3490481 , -0.64484948, -2.39579594],\n",
              "       [-0.33965435, -0.35768009,  2.78800715, -1.72941529],\n",
              "       [ 0.31447608, -0.80898165,  0.06885335,  0.38765859],\n",
              "       [-0.23835702,  0.83254879, -0.09829183, -0.34513402]])"
            ]
          },
          "metadata": {},
          "execution_count": 10
        }
      ]
    },
    {
      "cell_type": "code",
      "source": [
        "data[~(names=='Hasan')]"
      ],
      "metadata": {
        "colab": {
          "base_uri": "https://localhost:8080/"
        },
        "id": "DZp0GBgMh1xF",
        "outputId": "d22253d1-b06b-48bf-96f1-c0c0ad61eea9"
      },
      "execution_count": 11,
      "outputs": [
        {
          "output_type": "execute_result",
          "data": {
            "text/plain": [
              "array([[ 0.67241501, -0.66489328,  2.29953114,  0.46382451],\n",
              "       [ 0.65559634, -0.3490481 , -0.64484948, -2.39579594],\n",
              "       [-0.33965435, -0.35768009,  2.78800715, -1.72941529],\n",
              "       [ 0.31447608, -0.80898165,  0.06885335,  0.38765859],\n",
              "       [-0.23835702,  0.83254879, -0.09829183, -0.34513402]])"
            ]
          },
          "metadata": {},
          "execution_count": 11
        }
      ]
    },
    {
      "cell_type": "code",
      "source": [
        "mask=(names=='Hasan') | (names=='Husan')\n",
        "mask"
      ],
      "metadata": {
        "colab": {
          "base_uri": "https://localhost:8080/"
        },
        "id": "V06P2ldZhrXv",
        "outputId": "9121a2fb-931f-4558-d92a-ea285a7265d9"
      },
      "execution_count": 13,
      "outputs": [
        {
          "output_type": "execute_result",
          "data": {
            "text/plain": [
              "array([ True,  True, False, False,  True, False, False])"
            ]
          },
          "metadata": {},
          "execution_count": 13
        }
      ]
    },
    {
      "cell_type": "code",
      "source": [
        "data[mask]"
      ],
      "metadata": {
        "colab": {
          "base_uri": "https://localhost:8080/"
        },
        "id": "nH_--cE8igOs",
        "outputId": "7493c5c3-69a2-4cf5-9495-79af0b82cf0d"
      },
      "execution_count": 14,
      "outputs": [
        {
          "output_type": "execute_result",
          "data": {
            "text/plain": [
              "array([[-0.48215174,  0.06783732,  0.3230539 ,  0.77447255],\n",
              "       [ 0.67241501, -0.66489328,  2.29953114,  0.46382451],\n",
              "       [-0.80126359, -0.06189583,  0.35733987,  1.21505393]])"
            ]
          },
          "metadata": {},
          "execution_count": 14
        }
      ]
    },
    {
      "cell_type": "code",
      "source": [
        "data"
      ],
      "metadata": {
        "colab": {
          "base_uri": "https://localhost:8080/"
        },
        "id": "GhKV_kr5ij9J",
        "outputId": "063fd008-d492-48f2-ba58-6db52673db5a"
      },
      "execution_count": 15,
      "outputs": [
        {
          "output_type": "execute_result",
          "data": {
            "text/plain": [
              "array([[-0.48215174,  0.06783732,  0.3230539 ,  0.77447255],\n",
              "       [ 0.67241501, -0.66489328,  2.29953114,  0.46382451],\n",
              "       [ 0.65559634, -0.3490481 , -0.64484948, -2.39579594],\n",
              "       [-0.33965435, -0.35768009,  2.78800715, -1.72941529],\n",
              "       [-0.80126359, -0.06189583,  0.35733987,  1.21505393],\n",
              "       [ 0.31447608, -0.80898165,  0.06885335,  0.38765859],\n",
              "       [-0.23835702,  0.83254879, -0.09829183, -0.34513402]])"
            ]
          },
          "metadata": {},
          "execution_count": 15
        }
      ]
    },
    {
      "cell_type": "code",
      "source": [
        "data[data<0]=0\n",
        "data"
      ],
      "metadata": {
        "colab": {
          "base_uri": "https://localhost:8080/"
        },
        "id": "XPb4OpV6itn8",
        "outputId": "b646efc8-c661-40ba-9d39-b10eb90482c7"
      },
      "execution_count": 16,
      "outputs": [
        {
          "output_type": "execute_result",
          "data": {
            "text/plain": [
              "array([[0.        , 0.06783732, 0.3230539 , 0.77447255],\n",
              "       [0.67241501, 0.        , 2.29953114, 0.46382451],\n",
              "       [0.65559634, 0.        , 0.        , 0.        ],\n",
              "       [0.        , 0.        , 2.78800715, 0.        ],\n",
              "       [0.        , 0.        , 0.35733987, 1.21505393],\n",
              "       [0.31447608, 0.        , 0.06885335, 0.38765859],\n",
              "       [0.        , 0.83254879, 0.        , 0.        ]])"
            ]
          },
          "metadata": {},
          "execution_count": 16
        }
      ]
    },
    {
      "cell_type": "code",
      "source": [],
      "metadata": {
        "id": "pSrUYm6pi48v"
      },
      "execution_count": null,
      "outputs": []
    }
  ]
}