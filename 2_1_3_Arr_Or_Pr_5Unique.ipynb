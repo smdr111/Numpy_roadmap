{
  "cells": [
    {
      "cell_type": "markdown",
      "metadata": {
        "id": "j391WT_9Jtiz"
      },
      "source": [
        "![Imgur](https://i.imgur.com/5pXzCIu.png)"
      ]
    },
    {
      "cell_type": "markdown",
      "metadata": {
        "id": "zRGnG9Y5JwsD"
      },
      "source": [
        "# Data Science va Sun'iy Intellekt Praktikum\n",
        "\n",
        "## Ma'lumotlar tahlili.\n",
        "## 2.1. NumPy kutubxonasi bilan ishlash"
      ]
    },
    {
      "cell_type": "markdown",
      "metadata": {
        "id": "MUdyFpqWJznV"
      },
      "source": [
        "### NumPy kutubxonasini chaqirib olish"
      ]
    },
    {
      "cell_type": "code",
      "execution_count": null,
      "metadata": {
        "id": "GvHPxlyGJmX0"
      },
      "outputs": [],
      "source": [
        "import numpy as np"
      ]
    },
    {
      "cell_type": "markdown",
      "metadata": {
        "id": "o0jCHGyvJ42H"
      },
      "source": [
        "### 2.1.3. Massivga yo'naltirilgan dasturlash"
      ]
    },
    {
      "cell_type": "markdown",
      "metadata": {
        "id": "IYUw8_ELJ7NY"
      },
      "source": [
        "###  `unique` va `in1d` `setdiff1d` va boshqa usullari haqida\n"
      ]
    },
    {
      "cell_type": "code",
      "execution_count": null,
      "metadata": {
        "id": "chzjRb35OCkj"
      },
      "outputs": [],
      "source": [
        "# data\n",
        "names = np.array(['Sarvar', 'Abdurahmon', 'Hasan',  'Temur', 'Sarvar', 'Temur'])\n",
        "ints = np.array([3, 3, 3, 2, 2, 1, 1, 4, 4])"
      ]
    },
    {
      "cell_type": "code",
      "execution_count": null,
      "metadata": {
        "colab": {
          "base_uri": "https://localhost:8080/"
        },
        "id": "vIMuEQ11ODj7",
        "outputId": "50960945-4c00-4a18-c6ec-fbcb0d23f6e3"
      },
      "outputs": [
        {
          "data": {
            "text/plain": [
              "array(['Abdurahmon', 'Hasan', 'Sarvar', 'Temur'], dtype='<U10')"
            ]
          },
          "execution_count": 7,
          "metadata": {},
          "output_type": "execute_result"
        }
      ],
      "source": [
        "# unique\n",
        "np.unique(names) # names dagi takrorlanmas elementlarni qaytaradi (takrorlansa ham faqat bittasini qabul qiladi)"
      ]
    },
    {
      "cell_type": "code",
      "execution_count": null,
      "metadata": {
        "colab": {
          "base_uri": "https://localhost:8080/"
        },
        "id": "C1ULgtXeSJvE",
        "outputId": "502b3c15-4546-4202-c034-5e249041dadc"
      },
      "outputs": [
        {
          "data": {
            "text/plain": [
              "{'Abdurahmon', 'Hasan', 'Sarvar', 'Temur'}"
            ]
          },
          "execution_count": 10,
          "metadata": {},
          "output_type": "execute_result"
        }
      ],
      "source": [
        "set(names) # names dagi unique(takrorlanmas) elementlarni qaytaradi"
      ]
    },
    {
      "cell_type": "markdown",
      "metadata": {
        "id": "IVTdlCimS1Rt"
      },
      "source": [
        "### `in1d` usuli haqida"
      ]
    },
    {
      "cell_type": "code",
      "execution_count": null,
      "metadata": {
        "id": "mC90wwIrSfxS"
      },
      "outputs": [],
      "source": [
        "# data\n",
        "arr1 = np.array([6, 0, 0, 3, 2, 5, 6])\n",
        "arr2 = np.array([0, 2, 3])"
      ]
    },
    {
      "cell_type": "code",
      "execution_count": null,
      "metadata": {
        "colab": {
          "base_uri": "https://localhost:8080/"
        },
        "id": "0kXQy9ehVipQ",
        "outputId": "495e021e-a6ce-45d2-a777-3a13e7191db7"
      },
      "outputs": [
        {
          "data": {
            "text/plain": [
              "array([False,  True,  True,  True,  True, False, False])"
            ]
          },
          "execution_count": 16,
          "metadata": {},
          "output_type": "execute_result"
        }
      ],
      "source": [
        "np.in1d(arr1, arr2) # arr2 dagi elementlarni arr1 da mavjudligini tekshirish"
      ]
    },
    {
      "cell_type": "markdown",
      "metadata": {
        "id": "81o7-8z6V9uB"
      },
      "source": [
        "### `setdiff1d` usuli haqida"
      ]
    },
    {
      "cell_type": "code",
      "execution_count": null,
      "metadata": {
        "id": "lcUqcedHWJWN"
      },
      "outputs": [],
      "source": [
        "#data\n",
        "names1 = np.array(['Jasur', 'Abdurahmon', 'Hasan',  'Muhammad', 'Sarvar', 'Temur'])\n",
        "names2 = np.array(['Sarvar', 'Abdurahmon', 'Hasan',  'Temur', 'Sarvar', 'Temur'])"
      ]
    },
    {
      "cell_type": "code",
      "execution_count": null,
      "metadata": {
        "colab": {
          "base_uri": "https://localhost:8080/"
        },
        "id": "WzKwEOA9X9zD",
        "outputId": "532a90f0-be4f-4f88-94a3-56193d75ea30"
      },
      "outputs": [
        {
          "data": {
            "text/plain": [
              "array(['Jasur', 'Muhammad'], dtype='<U10')"
            ]
          },
          "execution_count": 19,
          "metadata": {},
          "output_type": "execute_result"
        }
      ],
      "source": [
        "np.setdiff1d(names1, names2) # names1 massivining names2 massividagi takrorlanmas qismini qaytaradi"
      ]
    }
  ],
  "metadata": {
    "colab": {
      "name": "2.1.3.Arr_Or_Pr#5Unique.ipynb",
      "provenance": []
    },
    "language_info": {
      "name": "python"
    }
  },
  "nbformat": 4,
  "nbformat_minor": 0
}