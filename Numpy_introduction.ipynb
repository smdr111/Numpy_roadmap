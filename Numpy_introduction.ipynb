{
  "nbformat": 4,
  "nbformat_minor": 0,
  "metadata": {
    "colab": {
      "provenance": [],
      "authorship_tag": "ABX9TyO4B4ppdFchSdkgkrgvmA14",
      "include_colab_link": true
    },
    "kernelspec": {
      "name": "python3",
      "display_name": "Python 3"
    },
    "language_info": {
      "name": "python"
    }
  },
  "cells": [
    {
      "cell_type": "markdown",
      "metadata": {
        "id": "view-in-github",
        "colab_type": "text"
      },
      "source": [
        "<a href=\"https://colab.research.google.com/github/smdr111/Numpy_roadmap/blob/main/Numpy_introduction.ipynb\" target=\"_parent\"><img src=\"https://colab.research.google.com/assets/colab-badge.svg\" alt=\"Open In Colab\"/></a>"
      ]
    },
    {
      "cell_type": "code",
      "execution_count": 1,
      "metadata": {
        "id": "pJi60clxffKW"
      },
      "outputs": [],
      "source": [
        "import numpy as np"
      ]
    },
    {
      "cell_type": "code",
      "source": [
        "my_list=list(range(100000)) # python list 0-99999 --> normal\n",
        "my_array=np.array(range(100000)) # numpy array(massiv) 0-99999 --> vektorlashgan"
      ],
      "metadata": {
        "id": "HQCzFVM6grLp"
      },
      "execution_count": 2,
      "outputs": []
    },
    {
      "cell_type": "code",
      "source": [
        "%time for _ in range(10): [x*2 for x in my_list] # normal"
      ],
      "metadata": {
        "colab": {
          "base_uri": "https://localhost:8080/"
        },
        "id": "tJRgxMw5hfXA",
        "outputId": "1be4914b-cb8f-49ad-b53d-928ba1aa2e15"
      },
      "execution_count": 3,
      "outputs": [
        {
          "output_type": "stream",
          "name": "stdout",
          "text": [
            "CPU times: user 43 ms, sys: 10 ms, total: 53 ms\n",
            "Wall time: 53.1 ms\n"
          ]
        }
      ]
    },
    {
      "cell_type": "code",
      "source": [
        "%time for _ in range(10): my_array*2"
      ],
      "metadata": {
        "colab": {
          "base_uri": "https://localhost:8080/"
        },
        "id": "_5SPKi_fjDjR",
        "outputId": "a3088e5f-2e6b-4e05-90c0-c3d00c7a93a6"
      },
      "execution_count": 4,
      "outputs": [
        {
          "output_type": "stream",
          "name": "stdout",
          "text": [
            "CPU times: user 2.33 ms, sys: 46 µs, total: 2.38 ms\n",
            "Wall time: 1.81 ms\n"
          ]
        }
      ]
    },
    {
      "cell_type": "code",
      "source": [
        "53.1/1.81"
      ],
      "metadata": {
        "colab": {
          "base_uri": "https://localhost:8080/"
        },
        "id": "lauMrLgVjMMV",
        "outputId": "0c2829eb-611b-44af-804c-27eebec0ac5e"
      },
      "execution_count": 5,
      "outputs": [
        {
          "output_type": "execute_result",
          "data": {
            "text/plain": [
              "29.337016574585636"
            ]
          },
          "metadata": {},
          "execution_count": 5
        }
      ]
    },
    {
      "cell_type": "code",
      "source": [],
      "metadata": {
        "id": "B2KKix7rjQZF"
      },
      "execution_count": null,
      "outputs": []
    }
  ]
}