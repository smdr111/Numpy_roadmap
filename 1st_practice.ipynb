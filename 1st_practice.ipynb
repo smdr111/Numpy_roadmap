{
  "nbformat": 4,
  "nbformat_minor": 0,
  "metadata": {
    "colab": {
      "provenance": [],
      "authorship_tag": "ABX9TyMRWctMurPCEgObBYmfRtcV",
      "include_colab_link": true
    },
    "kernelspec": {
      "name": "python3",
      "display_name": "Python 3"
    },
    "language_info": {
      "name": "python"
    }
  },
  "cells": [
    {
      "cell_type": "markdown",
      "metadata": {
        "id": "view-in-github",
        "colab_type": "text"
      },
      "source": [
        "<a href=\"https://colab.research.google.com/github/smdr111/Numpy_roadmap/blob/main/1st_practice.ipynb\" target=\"_parent\"><img src=\"https://colab.research.google.com/assets/colab-badge.svg\" alt=\"Open In Colab\"/></a>"
      ]
    },
    {
      "cell_type": "markdown",
      "source": [
        "N o`lchamli massiv(array) larga ishlov berish"
      ],
      "metadata": {
        "id": "HVuUdDbNnUXm"
      }
    },
    {
      "cell_type": "code",
      "execution_count": null,
      "metadata": {
        "id": "xIB94vtsnCyj"
      },
      "outputs": [],
      "source": [
        "import numpy as np"
      ]
    },
    {
      "cell_type": "code",
      "source": [
        "data1=[1.4,2,4,7] # list\n",
        "arr1=np.array(data1)"
      ],
      "metadata": {
        "id": "uSzM4n72ntyd"
      },
      "execution_count": null,
      "outputs": []
    },
    {
      "cell_type": "code",
      "source": [
        "arr1"
      ],
      "metadata": {
        "colab": {
          "base_uri": "https://localhost:8080/"
        },
        "id": "kb3nY9s-n5w9",
        "outputId": "401e8f01-e49d-477d-c242-a454098a960f"
      },
      "execution_count": null,
      "outputs": [
        {
          "output_type": "execute_result",
          "data": {
            "text/plain": [
              "array([1.4, 2. , 4. , 7. ])"
            ]
          },
          "metadata": {},
          "execution_count": 5
        }
      ]
    },
    {
      "cell_type": "code",
      "source": [
        "data2=(2,3.5,6,9) # tuple\n",
        "arr2=np.array(data2)"
      ],
      "metadata": {
        "id": "0sDXLvgPn8ZT"
      },
      "execution_count": null,
      "outputs": []
    },
    {
      "cell_type": "code",
      "source": [
        "arr2"
      ],
      "metadata": {
        "colab": {
          "base_uri": "https://localhost:8080/"
        },
        "id": "imR2QA-goRlu",
        "outputId": "45a48c04-5397-4fe2-de8b-ccd17d65e980"
      },
      "execution_count": null,
      "outputs": [
        {
          "output_type": "execute_result",
          "data": {
            "text/plain": [
              "array([2. , 3.5, 6. , 9. ])"
            ]
          },
          "metadata": {},
          "execution_count": 7
        }
      ]
    },
    {
      "cell_type": "markdown",
      "source": [
        "Massiv o`lchami\n",
        ".nidm"
      ],
      "metadata": {
        "id": "dkXLWhaaopHV"
      }
    },
    {
      "cell_type": "code",
      "source": [
        "arr1.ndim # array1 ning o`lchami"
      ],
      "metadata": {
        "colab": {
          "base_uri": "https://localhost:8080/"
        },
        "id": "0yjzDzLToSgE",
        "outputId": "a8b26df3-7e96-46e6-be65-efcf60f9eeb5"
      },
      "execution_count": null,
      "outputs": [
        {
          "output_type": "execute_result",
          "data": {
            "text/plain": [
              "1"
            ]
          },
          "metadata": {},
          "execution_count": 8
        }
      ]
    },
    {
      "cell_type": "code",
      "source": [
        "arr2.ndim # array2 ning o`lchami"
      ],
      "metadata": {
        "colab": {
          "base_uri": "https://localhost:8080/"
        },
        "id": "jrujiBAyo0mS",
        "outputId": "da6d17a8-66bc-4bd5-8fef-f32d1b77f19b"
      },
      "execution_count": null,
      "outputs": [
        {
          "output_type": "execute_result",
          "data": {
            "text/plain": [
              "1"
            ]
          },
          "metadata": {},
          "execution_count": 9
        }
      ]
    },
    {
      "cell_type": "markdown",
      "source": [
        "2 va undan ortiq massivlar"
      ],
      "metadata": {
        "id": "SvTcQjWgpmhi"
      }
    },
    {
      "cell_type": "code",
      "source": [
        "data3=[[1,2,3,4],[4,6,7,8]] # nested list\n",
        "arr3=np.array(data3)"
      ],
      "metadata": {
        "id": "Gqx_lDdipA55"
      },
      "execution_count": null,
      "outputs": []
    },
    {
      "cell_type": "code",
      "source": [
        "arr3.ndim"
      ],
      "metadata": {
        "colab": {
          "base_uri": "https://localhost:8080/"
        },
        "id": "Eohgtj3Np591",
        "outputId": "6be12833-720f-4e33-a293-0b6c16390cbc"
      },
      "execution_count": null,
      "outputs": [
        {
          "output_type": "execute_result",
          "data": {
            "text/plain": [
              "2"
            ]
          },
          "metadata": {},
          "execution_count": 12
        }
      ]
    },
    {
      "cell_type": "code",
      "source": [
        "data4=[[[[1,2]],[[3,4]]]]\n",
        "arr4=np.array(data4)"
      ],
      "metadata": {
        "id": "-00u67YGqGxM"
      },
      "execution_count": null,
      "outputs": []
    },
    {
      "cell_type": "code",
      "source": [
        "arr4.ndim"
      ],
      "metadata": {
        "colab": {
          "base_uri": "https://localhost:8080/"
        },
        "id": "nu9zmg2GrGhC",
        "outputId": "22cf4f75-fbab-4d38-b72f-c78d48e45806"
      },
      "execution_count": null,
      "outputs": [
        {
          "output_type": "execute_result",
          "data": {
            "text/plain": [
              "4"
            ]
          },
          "metadata": {},
          "execution_count": 29
        }
      ]
    },
    {
      "cell_type": "code",
      "source": [
        "arr4"
      ],
      "metadata": {
        "colab": {
          "base_uri": "https://localhost:8080/"
        },
        "id": "HYw5RWl6rI3-",
        "outputId": "5b797908-aa3b-4679-e41a-ef8a9cb76438"
      },
      "execution_count": null,
      "outputs": [
        {
          "output_type": "execute_result",
          "data": {
            "text/plain": [
              "array([[[[1, 2]],\n",
              "\n",
              "        [[3, 4]]]])"
            ]
          },
          "metadata": {},
          "execution_count": 30
        }
      ]
    },
    {
      "cell_type": "markdown",
      "source": [
        "shape, size methods"
      ],
      "metadata": {
        "id": "hHmuxpfYsft6"
      }
    },
    {
      "cell_type": "code",
      "source": [
        "arr3"
      ],
      "metadata": {
        "colab": {
          "base_uri": "https://localhost:8080/"
        },
        "id": "o2HXmOhVsbyA",
        "outputId": "6f14cbd3-6ffb-44c6-bb98-33db836afe9f"
      },
      "execution_count": null,
      "outputs": [
        {
          "output_type": "execute_result",
          "data": {
            "text/plain": [
              "array([[1, 2, 3, 4],\n",
              "       [4, 6, 7, 8]])"
            ]
          },
          "metadata": {},
          "execution_count": 31
        }
      ]
    },
    {
      "cell_type": "code",
      "source": [
        "arr3.shape"
      ],
      "metadata": {
        "colab": {
          "base_uri": "https://localhost:8080/"
        },
        "id": "At0QSev0s4WD",
        "outputId": "69367e14-4de9-4743-e4b2-5542b661ebaa"
      },
      "execution_count": null,
      "outputs": [
        {
          "output_type": "execute_result",
          "data": {
            "text/plain": [
              "(2, 4)"
            ]
          },
          "metadata": {},
          "execution_count": 34
        }
      ]
    },
    {
      "cell_type": "code",
      "source": [
        "arr3.size"
      ],
      "metadata": {
        "colab": {
          "base_uri": "https://localhost:8080/"
        },
        "id": "osrPPpOfs705",
        "outputId": "b8b1fa02-572c-4151-ed12-828c1140c4a6"
      },
      "execution_count": null,
      "outputs": [
        {
          "output_type": "execute_result",
          "data": {
            "text/plain": [
              "8"
            ]
          },
          "metadata": {},
          "execution_count": 37
        }
      ]
    },
    {
      "cell_type": "markdown",
      "source": [
        "zeros and ones functions"
      ],
      "metadata": {
        "id": "8LumJyTVthZH"
      }
    },
    {
      "cell_type": "code",
      "source": [
        "arr5=np.zeros((2,4))"
      ],
      "metadata": {
        "id": "ZGKq2aBotaUM"
      },
      "execution_count": null,
      "outputs": []
    },
    {
      "cell_type": "code",
      "source": [
        "arr5"
      ],
      "metadata": {
        "colab": {
          "base_uri": "https://localhost:8080/"
        },
        "id": "iCsaZsYmuVJJ",
        "outputId": "7d0b7106-e2ca-4f22-cf4a-305621267bde"
      },
      "execution_count": null,
      "outputs": [
        {
          "output_type": "execute_result",
          "data": {
            "text/plain": [
              "array([[0., 0., 0., 0.],\n",
              "       [0., 0., 0., 0.]])"
            ]
          },
          "metadata": {},
          "execution_count": 41
        }
      ]
    },
    {
      "cell_type": "code",
      "source": [
        "arr6=np.ones((2,4))"
      ],
      "metadata": {
        "id": "7KCKts47uWQF"
      },
      "execution_count": null,
      "outputs": []
    },
    {
      "cell_type": "code",
      "source": [
        "arr6"
      ],
      "metadata": {
        "colab": {
          "base_uri": "https://localhost:8080/"
        },
        "id": "HKoMhM_Euo9v",
        "outputId": "1ef403a2-1d12-404c-e45f-af16460ffbfe"
      },
      "execution_count": null,
      "outputs": [
        {
          "output_type": "execute_result",
          "data": {
            "text/plain": [
              "array([[1., 1., 1., 1.],\n",
              "       [1., 1., 1., 1.]])"
            ]
          },
          "metadata": {},
          "execution_count": 44
        }
      ]
    },
    {
      "cell_type": "markdown",
      "source": [
        "arange function"
      ],
      "metadata": {
        "id": "0lNHNVTIu2jw"
      }
    },
    {
      "cell_type": "code",
      "source": [
        "arr7=np.arange(2,24,3)"
      ],
      "metadata": {
        "id": "tzWbmsVxuuMU"
      },
      "execution_count": null,
      "outputs": []
    },
    {
      "cell_type": "code",
      "source": [
        "arr7"
      ],
      "metadata": {
        "colab": {
          "base_uri": "https://localhost:8080/"
        },
        "id": "j3sFSyJPvrxI",
        "outputId": "a68671d7-57ff-41ba-a31d-21475d35f453"
      },
      "execution_count": null,
      "outputs": [
        {
          "output_type": "execute_result",
          "data": {
            "text/plain": [
              "array([ 2,  5,  8, 11, 14, 17, 20, 23])"
            ]
          },
          "metadata": {},
          "execution_count": 46
        }
      ]
    },
    {
      "cell_type": "code",
      "source": [
        "arr8=np.arange(15)"
      ],
      "metadata": {
        "id": "d9fc_V1vvsmv"
      },
      "execution_count": null,
      "outputs": []
    },
    {
      "cell_type": "code",
      "source": [
        "arr8"
      ],
      "metadata": {
        "colab": {
          "base_uri": "https://localhost:8080/"
        },
        "id": "KhIFRbUBvytJ",
        "outputId": "c12bc30c-c9b0-4a87-8faa-bc75751d3c8d"
      },
      "execution_count": null,
      "outputs": [
        {
          "output_type": "execute_result",
          "data": {
            "text/plain": [
              "array([ 0,  1,  2,  3,  4,  5,  6,  7,  8,  9, 10, 11, 12, 13, 14])"
            ]
          },
          "metadata": {},
          "execution_count": 48
        }
      ]
    },
    {
      "cell_type": "code",
      "source": [
        "\n",
        "def one_dim(n):\n",
        "  \"\"\" n ta elementdan tashkil topgan 1-o'lchamli massiv \"\"\"\n",
        "  data=list(range(n))\n",
        "  arr=np.array(data)\n",
        "  return arr"
      ],
      "metadata": {
        "id": "0IUnLI8_Yhlw"
      },
      "execution_count": null,
      "outputs": []
    },
    {
      "cell_type": "code",
      "source": [
        "def two_dim(r, c):\n",
        "    \"\"\" r ta qator, c ta ustundan tashkil topgan 2-o'lchamli massiv \"\"\"\n",
        "    data1=[]\n",
        "    data2=[]\n",
        "    data3=[data1,data2]\n",
        "    arr=np.array(data3)\n",
        "    arr=np.random.rand(r,c)\n",
        "    return arr\n"
      ],
      "metadata": {
        "id": "d4eziwSYzIRC"
      },
      "execution_count": null,
      "outputs": []
    },
    {
      "cell_type": "code",
      "source": [],
      "metadata": {
        "id": "HGOGXboszD0e"
      },
      "execution_count": null,
      "outputs": []
    },
    {
      "cell_type": "code",
      "source": [],
      "metadata": {
        "id": "f1MXCiFE0_O1"
      },
      "execution_count": null,
      "outputs": []
    }
  ]
}